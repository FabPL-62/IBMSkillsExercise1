{
  "nbformat": 4,
  "nbformat_minor": 0,
  "metadata": {
    "colab": {
      "provenance": []
    },
    "kernelspec": {
      "name": "python3",
      "display_name": "Python 3"
    },
    "language_info": {
      "name": "python"
    }
  },
  "cells": [
    {
      "cell_type": "markdown",
      "source": [
        "#Data Science Tools and Ecosystem"
      ],
      "metadata": {
        "id": "F-Y1bMDc2s7C"
      }
    },
    {
      "cell_type": "markdown",
      "source": [
        "In this notebook, Data Science Tools and Ecosystem are summarized."
      ],
      "metadata": {
        "id": "kr66XCxg3WdQ"
      }
    },
    {
      "cell_type": "markdown",
      "source": [
        "**Objectives:**\n",
        "- List popular languages for Data Science\n",
        "- List of commonly used libraries used in Data Science\n",
        "- Table of Data Science tools\n",
        "- A few examples of evaluating arithmetic expressions in Python"
      ],
      "metadata": {
        "id": "xxo5HELW8VRz"
      }
    },
    {
      "cell_type": "markdown",
      "source": [
        "##Author\n",
        "Fabian Pulgar López"
      ],
      "metadata": {
        "id": "04Pq9zWiB_dE"
      }
    },
    {
      "cell_type": "markdown",
      "source": [
        "Some of the popular languages that Data Scientists use are:\n",
        "\n",
        "1. Python\n",
        "2. R\n",
        "3. Julia"
      ],
      "metadata": {
        "id": "JeNG7aRh3rl1"
      }
    },
    {
      "cell_type": "markdown",
      "source": [
        "Some of the commonly used libraries used by Data Scientists include:\n",
        "\n",
        "1. NumPy\n",
        "2. Pandas\n",
        "3. Matplotlib\n",
        "4. Scikit-learn"
      ],
      "metadata": {
        "id": "_CyqjNUb4RJw"
      }
    },
    {
      "cell_type": "markdown",
      "source": [
        "|Data Science Tools|\n",
        "|------------------|\n",
        "|Jupyter Notebooks|\n",
        "|RStudio|\n",
        "|Google Colab|\n",
        "|Jupyter Lab|"
      ],
      "metadata": {
        "id": "8oJBAK6R5szk"
      }
    },
    {
      "cell_type": "markdown",
      "source": [
        "###Below are a few examples of evaluating arithmetic expressions in Python\n"
      ],
      "metadata": {
        "id": "dc_QdMnL6ruS"
      }
    },
    {
      "cell_type": "code",
      "source": [
        "# This a simple arithmetic expression to mutiply then add integers\n",
        "(3*4)+5"
      ],
      "metadata": {
        "colab": {
          "base_uri": "https://localhost:8080/"
        },
        "id": "FzyoPBzc7FvO",
        "outputId": "da21388a-63c6-4231-80d8-b20afc7e4125"
      },
      "execution_count": 1,
      "outputs": [
        {
          "output_type": "execute_result",
          "data": {
            "text/plain": [
              "17"
            ]
          },
          "metadata": {},
          "execution_count": 1
        }
      ]
    },
    {
      "cell_type": "code",
      "source": [
        "# This will convert 200 minutes to hours by diving by 60\n",
        "minutes = 200\n",
        "hours = 200/60\n",
        "print(\"200 minutes =\",round(hours,2), \"hours\")"
      ],
      "metadata": {
        "colab": {
          "base_uri": "https://localhost:8080/"
        },
        "id": "f0CvMGZb7aYP",
        "outputId": "a1a10219-b943-4e3c-fdc2-f383fc464e23"
      },
      "execution_count": 5,
      "outputs": [
        {
          "output_type": "stream",
          "name": "stdout",
          "text": [
            "200 minutes = 3.33 hours\n"
          ]
        }
      ]
    }
  ]
}